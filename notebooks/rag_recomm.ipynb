{
 "cells": [
  {
   "cell_type": "markdown",
   "id": "4e05b34f-b9cd-4065-b3af-b0f76cb1458c",
   "metadata": {},
   "source": [
    "# RAG Recommendations & Evaluation"
   ]
  },
  {
   "cell_type": "markdown",
   "id": "8b0c83f2-7962-4a15-9a7b-8704b92362d6",
   "metadata": {},
   "source": [
    "### Loading dependencies & data, Helper functions"
   ]
  },
  {
   "cell_type": "code",
   "execution_count": 1,
   "id": "295c09d9-8765-4200-86df-46f98e03159e",
   "metadata": {},
   "outputs": [
    {
     "name": "stderr",
     "output_type": "stream",
     "text": [
      "2025-06-22 21:42:34.987156: I tensorflow/core/util/port.cc:153] oneDNN custom operations are on. You may see slightly different numerical results due to floating-point round-off errors from different computation orders. To turn them off, set the environment variable `TF_ENABLE_ONEDNN_OPTS=0`.\n",
      "2025-06-22 21:42:34.999012: E external/local_xla/xla/stream_executor/cuda/cuda_fft.cc:467] Unable to register cuFFT factory: Attempting to register factory for plugin cuFFT when one has already been registered\n",
      "WARNING: All log messages before absl::InitializeLog() is called are written to STDERR\n",
      "E0000 00:00:1750608755.012380 2079463 cuda_dnn.cc:8579] Unable to register cuDNN factory: Attempting to register factory for plugin cuDNN when one has already been registered\n",
      "E0000 00:00:1750608755.016040 2079463 cuda_blas.cc:1407] Unable to register cuBLAS factory: Attempting to register factory for plugin cuBLAS when one has already been registered\n",
      "W0000 00:00:1750608755.026755 2079463 computation_placer.cc:177] computation placer already registered. Please check linkage and avoid linking the same target more than once.\n",
      "W0000 00:00:1750608755.026777 2079463 computation_placer.cc:177] computation placer already registered. Please check linkage and avoid linking the same target more than once.\n",
      "W0000 00:00:1750608755.026779 2079463 computation_placer.cc:177] computation placer already registered. Please check linkage and avoid linking the same target more than once.\n",
      "W0000 00:00:1750608755.026780 2079463 computation_placer.cc:177] computation placer already registered. Please check linkage and avoid linking the same target more than once.\n",
      "2025-06-22 21:42:35.030678: I tensorflow/core/platform/cpu_feature_guard.cc:210] This TensorFlow binary is optimized to use available CPU instructions in performance-critical operations.\n",
      "To enable the following instructions: AVX2 AVX512F AVX512_VNNI AVX512_BF16 AVX512_FP16 AVX_VNNI AMX_TILE AMX_INT8 AMX_BF16 FMA, in other operations, rebuild TensorFlow with the appropriate compiler flags.\n"
     ]
    }
   ],
   "source": [
    "import faiss\n",
    "import pickle\n",
    "import torch\n",
    "from transformers import AutoModelForCausalLM, AutoTokenizer\n",
    "from sentence_transformers import SentenceTransformer"
   ]
  },
  {
   "cell_type": "raw",
   "id": "5c232e9b-9cc0-4532-9f51-8bb25d3ee805",
   "metadata": {},
   "source": [
    "- queries_f has the queries formed using seeds given to Gemini-2.5-flash\n",
    "- queries_e has the exact queries parsed from the titles of the blogs"
   ]
  },
  {
   "cell_type": "code",
   "execution_count": 2,
   "id": "65e096cf-1039-4b5b-a3b2-ae31e8c2f33d",
   "metadata": {},
   "outputs": [],
   "source": [
    "queries_f = []\n",
    "with open('queries_naukri.txt', encoding=\"utf-8\") as f:\n",
    "    for line in f:\n",
    "        query = line.strip()\n",
    "        if query:\n",
    "            queries_f.append(query)"
   ]
  },
  {
   "cell_type": "code",
   "execution_count": 3,
   "id": "c352a93b-2862-4d94-a163-518226619450",
   "metadata": {},
   "outputs": [
    {
     "data": {
      "text/plain": [
       "'Essential entrepreneur skills to develop'"
      ]
     },
     "execution_count": 3,
     "metadata": {},
     "output_type": "execute_result"
    }
   ],
   "source": [
    "queries_f[0]"
   ]
  },
  {
   "cell_type": "code",
   "execution_count": 4,
   "id": "b592e4ff-89e4-474b-bd4c-c74188f02909",
   "metadata": {},
   "outputs": [],
   "source": [
    "queries_e = []\n",
    "with open('exact_queries.txt', encoding=\"utf-8\") as f:\n",
    "    for line in f:\n",
    "        query = line.strip()\n",
    "        if query:\n",
    "            queries_e.append(query)"
   ]
  },
  {
   "cell_type": "code",
   "execution_count": 5,
   "id": "290ad35d-9722-4d29-9b9c-28acecbda006",
   "metadata": {},
   "outputs": [
    {
     "data": {
      "text/plain": [
       "'Popular Artificial Intelligence & Machine Learning Careers'"
      ]
     },
     "execution_count": 5,
     "metadata": {},
     "output_type": "execute_result"
    }
   ],
   "source": [
    "queries_e[450]"
   ]
  },
  {
   "cell_type": "code",
   "execution_count": 6,
   "id": "2efac815-a459-4005-be8a-bcab6c285711",
   "metadata": {},
   "outputs": [],
   "source": [
    "model = SentenceTransformer(\"Qwen/Qwen3-Embedding-0.6B\")"
   ]
  },
  {
   "cell_type": "code",
   "execution_count": 7,
   "id": "e0b507ac-10f8-4cae-bd3b-e11bdad0e750",
   "metadata": {},
   "outputs": [],
   "source": [
    "with open(\"metadata.pkl\", 'rb') as f:\n",
    "    metadata = pickle.load(f)"
   ]
  },
  {
   "cell_type": "code",
   "execution_count": 8,
   "id": "0117cd0e-a59a-44d6-a651-251b59d24c1b",
   "metadata": {},
   "outputs": [
    {
     "data": {
      "text/plain": [
       "dict_keys(['topic', 'title', 'doc_idx', 'url', 'body', 'ner', 'bm25', 'splade'])"
      ]
     },
     "execution_count": 8,
     "metadata": {},
     "output_type": "execute_result"
    }
   ],
   "source": [
    "metadata[0].keys()"
   ]
  },
  {
   "cell_type": "code",
   "execution_count": 9,
   "id": "4a485748-ab22-4164-a560-a95c1ae55ff2",
   "metadata": {},
   "outputs": [
    {
     "data": {
      "text/plain": [
       "list"
      ]
     },
     "execution_count": 9,
     "metadata": {},
     "output_type": "execute_result"
    }
   ],
   "source": [
    "type(metadata)"
   ]
  },
  {
   "cell_type": "code",
   "execution_count": 10,
   "id": "9a975112-afce-4d30-9555-a4d2ff902e45",
   "metadata": {},
   "outputs": [
    {
     "data": {
      "text/plain": [
       "dict"
      ]
     },
     "execution_count": 10,
     "metadata": {},
     "output_type": "execute_result"
    }
   ],
   "source": [
    "type(metadata[0])"
   ]
  },
  {
   "cell_type": "code",
   "execution_count": 11,
   "id": "b14b93b4-71a9-4523-9176-adbc75af4a28",
   "metadata": {},
   "outputs": [],
   "source": [
    "index = faiss.read_index(\"faiss.index\")"
   ]
  },
  {
   "cell_type": "code",
   "execution_count": 12,
   "id": "8a94c35b-e73b-4abc-956b-9017490c6a34",
   "metadata": {},
   "outputs": [],
   "source": [
    "def print_recomm(recom):\n",
    "    for i, (score, doc_dict) in enumerate(recom):\n",
    "        title = doc_dict.get('title', 'N/A')\n",
    "        url = doc_dict.get('url', 'N/A')\n",
    "        doc_idx = doc_dict.get('doc_idx', 'N/A')\n",
    "        \n",
    "        print(f\"Rank {i+1}:\")\n",
    "        print(f\"  Score: {score:.4f}\")\n",
    "        print(f\"  Doc Index: {doc_idx}\")\n",
    "        print(f\"  Title: {title}\")\n",
    "        print(f\"  URL: {url}\")\n",
    "        print(\"-\" * 30)"
   ]
  },
  {
   "cell_type": "markdown",
   "id": "ad6903e1-2594-4043-9985-90b68b60ef65",
   "metadata": {},
   "source": [
    "## Recommendations Flow"
   ]
  },
  {
   "cell_type": "markdown",
   "id": "d792b8cf-df0d-41eb-8d72-3f3cccfc391f",
   "metadata": {},
   "source": [
    "### FAISS Recommendations"
   ]
  },
  {
   "cell_type": "raw",
   "id": "8df33277-003a-42f9-89a4-80fb2269271a",
   "metadata": {},
   "source": [
    "- Fetching the Top-K (K=10) recommendations here from the dense embeddings (FAISS similarity scores)"
   ]
  },
  {
   "cell_type": "code",
   "execution_count": 13,
   "id": "0ae7d152-7533-4880-83f8-f5bf4533dfd2",
   "metadata": {},
   "outputs": [],
   "source": [
    "import numpy as np"
   ]
  },
  {
   "cell_type": "code",
   "execution_count": 14,
   "id": "85ab54e6-7879-47a1-8d20-bb88c8cfeac6",
   "metadata": {},
   "outputs": [],
   "source": [
    "def query_embed(text):\n",
    "    emb = model.encode([text], convert_to_tensor=False)\n",
    "    emb = np.array(emb, dtype='float32')\n",
    "    faiss.normalize_L2(emb)\n",
    "    return emb"
   ]
  },
  {
   "cell_type": "code",
   "execution_count": 15,
   "id": "18fdf3ed-6f07-408c-8219-fe0100f3f200",
   "metadata": {},
   "outputs": [],
   "source": [
    "def dense_search(query, topk = 10):\n",
    "    qemb = query_embed(query)\n",
    "    \n",
    "    D, I = index.search(qemb.reshape(1, -1), topk * 10) \n",
    "    \n",
    "    res = []\n",
    "    seen_urls = set() \n",
    "\n",
    "    for score, idx in zip(D[0], I[0]):\n",
    "        if not (0 <= idx < len(metadata)):\n",
    "            continue \n",
    "            \n",
    "        doc_info = metadata[idx] \n",
    "        curr_url = doc_info.get('url') \n",
    "        \n",
    "        if curr_url is None:\n",
    "            continue \n",
    "\n",
    "        if curr_url not in seen_urls:\n",
    "            res.append((score, doc_info))\n",
    "            seen_urls.add(curr_url)\n",
    "            \n",
    "            if len(res) >= topk:\n",
    "                break \n",
    "                \n",
    "    return res\n"
   ]
  },
  {
   "cell_type": "code",
   "execution_count": 16,
   "id": "22a45bce-84a7-4c13-9f80-4c90d87b320a",
   "metadata": {},
   "outputs": [],
   "source": [
    "dense_recomm = dense_search(queries_f[0], topk = 10)"
   ]
  },
  {
   "cell_type": "code",
   "execution_count": 17,
   "id": "a319bb05-b3a7-4a72-afa7-34705a200edc",
   "metadata": {},
   "outputs": [
    {
     "name": "stdout",
     "output_type": "stream",
     "text": [
      "Rank 1:\n",
      "  Score: 0.6653\n",
      "  Doc Index: 392\n",
      "  Title: 10 Essential Entrepreneurial Skills & How to Develop Them\n",
      "  URL: https://www.naukri.com/blog/entrepreneurial-skills/\n",
      "------------------------------\n",
      "Rank 2:\n",
      "  Score: 0.6274\n",
      "  Doc Index: 420\n",
      "  Title: 8 Most Important Qualities of an Entrepreneur and How to Develop Them\n",
      "  URL: https://www.naukri.com/blog/qualities-of-an-entrepreneur/\n",
      "------------------------------\n",
      "Rank 3:\n",
      "  Score: 0.5456\n",
      "  Doc Index: 626\n",
      "  Title: Upgrade Yourself for These Top 20 Work-From-Home Jobs\n",
      "  URL: https://www.naukri.com/blog/upgrade-yourself-for-these-top-20-work-from-home-jobs-covid-article3/\n",
      "------------------------------\n",
      "Rank 4:\n",
      "  Score: 0.5265\n",
      "  Doc Index: 640\n",
      "  Title: Top 100 MOOCs for Lifelong Learners: Pick a New Skill and Make the Most of This Lockdown\n",
      "  URL: https://www.naukri.com/blog/top-100-moocs-for-lifelong-learners-pick-a-new-skill-and-make-the-most-of-this-lockdown-covid-article3/\n",
      "------------------------------\n",
      "Rank 5:\n",
      "  Score: 0.5175\n",
      "  Doc Index: 1228\n",
      "  Title: Recommendation Letter Samples By Job Role\n",
      "  URL: https://www.naukri.com/blog/recommendation-letter-samples-by-job-role/\n",
      "------------------------------\n",
      "Rank 6:\n",
      "  Score: 0.5168\n",
      "  Doc Index: 638\n",
      "  Title: 150+ Trending Courses from Top Online Learning Sites to Upskill Yourself\n",
      "  URL: https://www.naukri.com/blog/150-trending-online-courses-on-top-learning-sites-during-coronavirus-lockdown-covid-article3/\n",
      "------------------------------\n",
      "Rank 7:\n",
      "  Score: 0.5062\n",
      "  Doc Index: 815\n",
      "  Title: Hard Skills Vs Soft Skills (Difference Explained!)\n",
      "  URL: https://www.naukri.com/blog/hard-skills-vs-soft-skills-difference/\n",
      "------------------------------\n",
      "Rank 8:\n",
      "  Score: 0.5054\n",
      "  Doc Index: 276\n",
      "  Title: 4 Leaders Whose Leadership Qualities & Skills Changed Everything\n",
      "  URL: https://www.naukri.com/blog/4-leaders-whose-leadership-qualities-skills-changed-everything/\n",
      "------------------------------\n",
      "Rank 9:\n",
      "  Score: 0.4932\n",
      "  Doc Index: 1070\n",
      "  Title: 20+ Business Development Executive Interview Questions (With Sample Answers)\n",
      "  URL: https://www.naukri.com/blog/7-business-development-executive-interview-questions/\n",
      "------------------------------\n",
      "Rank 10:\n",
      "  Score: 0.4930\n",
      "  Doc Index: 1227\n",
      "  Title: 50+ Top HR Interview Questions and Answers for 2025 (Freshers & Experienced)\n",
      "  URL: https://www.naukri.com/blog/frequently-asked-hr-interview-questions-and-answers/\n",
      "------------------------------\n"
     ]
    }
   ],
   "source": [
    "print_recomm(dense_recomm)"
   ]
  },
  {
   "cell_type": "markdown",
   "id": "108cec2a-1311-4cb2-b757-4ef7cbd710ee",
   "metadata": {},
   "source": [
    "### SPLADE Recommendations"
   ]
  },
  {
   "cell_type": "raw",
   "id": "11de79b2-b039-490a-afc7-4d542f9b9918",
   "metadata": {},
   "source": [
    "- Fetching the Top-K (K=10) recommendations via SPLADE (Parse Lexical and Expansion model)\n",
    "- Structure: have calculated the SPLADE embeddings of the chunks (& removed the 0 values, stored the non-zero values indices & scores) now would be doing inner-product and normalising the value and then sorting on the basis of it"
   ]
  },
  {
   "cell_type": "code",
   "execution_count": 18,
   "id": "4100637d-413d-47af-912a-59935dc7c861",
   "metadata": {},
   "outputs": [],
   "source": [
    "import torch\n",
    "from typing import List, Dict, Tuple, Union\n",
    "from transformers import AutoModelForMaskedLM, AutoTokenizer"
   ]
  },
  {
   "cell_type": "code",
   "execution_count": 19,
   "id": "21d8fccb-6074-4d13-a6d7-000aa6f09768",
   "metadata": {},
   "outputs": [
    {
     "data": {
      "text/plain": [
       "DistilBertForMaskedLM(\n",
       "  (activation): GELUActivation()\n",
       "  (distilbert): DistilBertModel(\n",
       "    (embeddings): Embeddings(\n",
       "      (word_embeddings): Embedding(30522, 768, padding_idx=0)\n",
       "      (position_embeddings): Embedding(512, 768)\n",
       "      (LayerNorm): LayerNorm((768,), eps=1e-12, elementwise_affine=True)\n",
       "      (dropout): Dropout(p=0.1, inplace=False)\n",
       "    )\n",
       "    (transformer): Transformer(\n",
       "      (layer): ModuleList(\n",
       "        (0-5): 6 x TransformerBlock(\n",
       "          (attention): DistilBertSdpaAttention(\n",
       "            (dropout): Dropout(p=0.1, inplace=False)\n",
       "            (q_lin): Linear(in_features=768, out_features=768, bias=True)\n",
       "            (k_lin): Linear(in_features=768, out_features=768, bias=True)\n",
       "            (v_lin): Linear(in_features=768, out_features=768, bias=True)\n",
       "            (out_lin): Linear(in_features=768, out_features=768, bias=True)\n",
       "          )\n",
       "          (sa_layer_norm): LayerNorm((768,), eps=1e-12, elementwise_affine=True)\n",
       "          (ffn): FFN(\n",
       "            (dropout): Dropout(p=0.1, inplace=False)\n",
       "            (lin1): Linear(in_features=768, out_features=3072, bias=True)\n",
       "            (lin2): Linear(in_features=3072, out_features=768, bias=True)\n",
       "            (activation): GELUActivation()\n",
       "          )\n",
       "          (output_layer_norm): LayerNorm((768,), eps=1e-12, elementwise_affine=True)\n",
       "        )\n",
       "      )\n",
       "    )\n",
       "  )\n",
       "  (vocab_transform): Linear(in_features=768, out_features=768, bias=True)\n",
       "  (vocab_layer_norm): LayerNorm((768,), eps=1e-12, elementwise_affine=True)\n",
       "  (vocab_projector): Linear(in_features=768, out_features=30522, bias=True)\n",
       "  (mlm_loss_fct): CrossEntropyLoss()\n",
       ")"
      ]
     },
     "execution_count": 19,
     "metadata": {},
     "output_type": "execute_result"
    }
   ],
   "source": [
    "splade_tokenizer = AutoTokenizer.from_pretrained(\"naver/splade-v3-distilbert\")\n",
    "splade_model = AutoModelForMaskedLM.from_pretrained(\"naver/splade-v3-distilbert\")\n",
    "splade_model.eval() # set to eval for inference"
   ]
  },
  {
   "cell_type": "code",
   "execution_count": 20,
   "id": "02ffc622-a662-4130-8224-66436df5933b",
   "metadata": {},
   "outputs": [
    {
     "data": {
      "text/plain": [
       "DistilBertForMaskedLM(\n",
       "  (activation): GELUActivation()\n",
       "  (distilbert): DistilBertModel(\n",
       "    (embeddings): Embeddings(\n",
       "      (word_embeddings): Embedding(30522, 768, padding_idx=0)\n",
       "      (position_embeddings): Embedding(512, 768)\n",
       "      (LayerNorm): LayerNorm((768,), eps=1e-12, elementwise_affine=True)\n",
       "      (dropout): Dropout(p=0.1, inplace=False)\n",
       "    )\n",
       "    (transformer): Transformer(\n",
       "      (layer): ModuleList(\n",
       "        (0-5): 6 x TransformerBlock(\n",
       "          (attention): DistilBertSdpaAttention(\n",
       "            (dropout): Dropout(p=0.1, inplace=False)\n",
       "            (q_lin): Linear(in_features=768, out_features=768, bias=True)\n",
       "            (k_lin): Linear(in_features=768, out_features=768, bias=True)\n",
       "            (v_lin): Linear(in_features=768, out_features=768, bias=True)\n",
       "            (out_lin): Linear(in_features=768, out_features=768, bias=True)\n",
       "          )\n",
       "          (sa_layer_norm): LayerNorm((768,), eps=1e-12, elementwise_affine=True)\n",
       "          (ffn): FFN(\n",
       "            (dropout): Dropout(p=0.1, inplace=False)\n",
       "            (lin1): Linear(in_features=768, out_features=3072, bias=True)\n",
       "            (lin2): Linear(in_features=3072, out_features=768, bias=True)\n",
       "            (activation): GELUActivation()\n",
       "          )\n",
       "          (output_layer_norm): LayerNorm((768,), eps=1e-12, elementwise_affine=True)\n",
       "        )\n",
       "      )\n",
       "    )\n",
       "  )\n",
       "  (vocab_transform): Linear(in_features=768, out_features=768, bias=True)\n",
       "  (vocab_layer_norm): LayerNorm((768,), eps=1e-12, elementwise_affine=True)\n",
       "  (vocab_projector): Linear(in_features=768, out_features=30522, bias=True)\n",
       "  (mlm_loss_fct): CrossEntropyLoss()\n",
       ")"
      ]
     },
     "execution_count": 20,
     "metadata": {},
     "output_type": "execute_result"
    }
   ],
   "source": [
    "device = torch.device(\"cuda\" if torch.cuda.is_available() else \"cpu\")\n",
    "splade_model.to(device)"
   ]
  },
  {
   "cell_type": "code",
   "execution_count": 21,
   "id": "e5e33e7c-3e27-44b9-a618-5fdd256174b0",
   "metadata": {},
   "outputs": [],
   "source": [
    "def splade_query_embed(text: str) -> Dict[int, float]:\n",
    "    inputs = splade_tokenizer(\n",
    "        text,\n",
    "        return_tensors=\"pt\",\n",
    "        padding=True,\n",
    "        max_length=splade_tokenizer.model_max_length,\n",
    "        truncation=True\n",
    "    )\n",
    "    inputs = {k: v.to(device) for k, v in inputs.items()}\n",
    "    with torch.no_grad():\n",
    "        output = splade_model(**inputs)\n",
    "    \n",
    "    logits = output.logits\n",
    "    relu_logits = torch.relu(logits)\n",
    "    log_relu_logits = torch.log(1 + relu_logits)\n",
    "    max_pooled_logits = torch.max(log_relu_logits * inputs[\"attention_mask\"].unsqueeze(-1), dim=1).values\n",
    "    \n",
    "    sparse_vector = {}\n",
    "    for i, score in enumerate(max_pooled_logits[0]):\n",
    "        if score > 0:\n",
    "            sparse_vector[i] = score.item()\n",
    "    return sparse_vector"
   ]
  },
  {
   "cell_type": "code",
   "execution_count": 22,
   "id": "68d3fdc3-9417-4bdf-8b37-7fe60044181b",
   "metadata": {},
   "outputs": [],
   "source": [
    "def dot_product(vec1: Dict[int, float], vec2: Dict[int, float]) -> float:\n",
    "    dp = 0.0\n",
    "    for token_id, score1 in vec1.items():\n",
    "        if token_id in vec2:\n",
    "            dp += score1 * vec2[token_id]\n",
    "    return dp"
   ]
  },
  {
   "cell_type": "code",
   "execution_count": 23,
   "id": "52f0aae8-4fc9-4b80-bf52-bf8b0cc63114",
   "metadata": {},
   "outputs": [],
   "source": [
    "def norm(vec: Union[Dict[int, float], List[Dict[int, float]], List[float]]) -> float:\n",
    "    sum_sq = 0.0\n",
    "    if isinstance(vec, dict):\n",
    "        for score_val in vec.values():\n",
    "            sum_sq += score_val * score_val\n",
    "    elif isinstance(vec, list):\n",
    "        for item_element in vec:\n",
    "            if isinstance(item_element, dict) and len(item_element) == 1:\n",
    "                score_val = next(iter(item_element.values()))\n",
    "                sum_sq += score_val * score_val\n",
    "            elif isinstance(item_element, (int, float)):\n",
    "                score_val = item_element\n",
    "                sum_sq += score_val * score_val\n",
    "    return np.sqrt(sum_sq)"
   ]
  },
  {
   "cell_type": "code",
   "execution_count": 24,
   "id": "3b771278-053c-4e91-83cc-0246df12ffa3",
   "metadata": {},
   "outputs": [],
   "source": [
    "def splade_search(query: str, meta: List[Dict], topk: int = 10) -> List[Tuple[float, Dict]]:\n",
    "    q_vec = splade_query_embed(query)\n",
    "    q_norm = norm(q_vec)\n",
    "    if q_norm == 0:\n",
    "        return []\n",
    "    doc_scores = []\n",
    "    for d_idx, d_item in enumerate(meta):\n",
    "        chunk_vecs = d_item.get('splade')\n",
    "        if not isinstance(chunk_vecs, list) or not chunk_vecs:\n",
    "            doc_scores.append((0.0, d_idx))\n",
    "            continue\n",
    "            \n",
    "        max_sim = 0.0\n",
    "        for c_vec in chunk_vecs:\n",
    "            if isinstance(c_vec, dict):\n",
    "                c_norm = norm(c_vec)\n",
    "                if c_norm > 0:\n",
    "                    sim = dot_product(q_vec, c_vec) / (q_norm * c_norm)\n",
    "                    if sim > max_sim:\n",
    "                        max_sim = sim\n",
    "        doc_scores.append((max_sim, d_idx))\n",
    "        \n",
    "    doc_scores.sort(key=lambda x: x[0], reverse=True)\n",
    "    res = []\n",
    "    seen_urls = set()\n",
    "    for score, d_idx in doc_scores:\n",
    "        if not (0 <= d_idx < len(meta)):\n",
    "            continue\n",
    "            \n",
    "        doc_info = meta[d_idx]\n",
    "        current_url = doc_info.get('url')\n",
    "        if current_url is None:\n",
    "            continue\n",
    "            \n",
    "        if current_url not in seen_urls:\n",
    "            res.append((score, doc_info))\n",
    "            seen_urls.add(current_url)\n",
    "\n",
    "            if len(res) >= topk:\n",
    "                break   \n",
    "    return res"
   ]
  },
  {
   "cell_type": "code",
   "execution_count": 25,
   "id": "f9e3accd-545b-4ed7-b4f4-82fa7cd3645d",
   "metadata": {},
   "outputs": [],
   "source": [
    "splade_recomm = splade_search(queries_f[0], metadata, 10)"
   ]
  },
  {
   "cell_type": "code",
   "execution_count": 26,
   "id": "34cf0c13-d0ce-48ad-be5c-4370f9831566",
   "metadata": {},
   "outputs": [
    {
     "name": "stdout",
     "output_type": "stream",
     "text": [
      "Rank 1:\n",
      "  Score: 0.5046\n",
      "  Doc Index: 392\n",
      "  Title: 10 Essential Entrepreneurial Skills & How to Develop Them\n",
      "  URL: https://www.naukri.com/blog/entrepreneurial-skills/\n",
      "------------------------------\n",
      "Rank 2:\n",
      "  Score: 0.4258\n",
      "  Doc Index: 1\n",
      "  Title: 8 Most Important Qualities of an Entrepreneur and How to Develop Them\n",
      "  URL: https://www.naukri.com/blog/qualities-of-an-entrepreneur/\n",
      "------------------------------\n",
      "Rank 3:\n",
      "  Score: 0.3292\n",
      "  Doc Index: 4\n",
      "  Title: What is Management? Definition, Functions, Skills, and Job Roles\n",
      "  URL: https://www.naukri.com/blog/what-is-management/\n",
      "------------------------------\n",
      "Rank 4:\n",
      "  Score: 0.3249\n",
      "  Doc Index: 675\n",
      "  Title: What Are the Crucial Aerospace Engineer Skills?\n",
      "  URL: https://www.naukri.com/blog/what-are-the-crucial-aerospace-engineer-skills/\n",
      "------------------------------\n",
      "Rank 5:\n",
      "  Score: 0.3178\n",
      "  Doc Index: 400\n",
      "  Title: What To Do After BCA?: Scope and Career Options\n",
      "  URL: https://www.naukri.com/blog/what-to-do-after-bca/\n",
      "------------------------------\n",
      "Rank 6:\n",
      "  Score: 0.3053\n",
      "  Doc Index: 1454\n",
      "  Title: Basic Computer Skills for Resume: Importance and How to Use\n",
      "  URL: https://www.naukri.com/blog/basic-computer-skills/\n",
      "------------------------------\n",
      "Rank 7:\n",
      "  Score: 0.3031\n",
      "  Doc Index: 1469\n",
      "  Title: Top 10+ Skills New Managers Must Focus On\n",
      "  URL: https://www.naukri.com/blog/skills-new-managers-must-focus-on/\n",
      "------------------------------\n",
      "Rank 8:\n",
      "  Score: 0.2965\n",
      "  Doc Index: 963\n",
      "  Title: In Conversation With- Madhumita, Content Designer, Naukri\n",
      "  URL: https://www.naukri.com/blog/in-conversation-with-content-designer-naukri/\n",
      "------------------------------\n",
      "Rank 9:\n",
      "  Score: 0.2962\n",
      "  Doc Index: 72\n",
      "  Title: How to Become a Data Analyst\n",
      "  URL: https://www.naukri.com/blog/how-to-become-a-data-analyst/\n",
      "------------------------------\n",
      "Rank 10:\n",
      "  Score: 0.2951\n",
      "  Doc Index: 78\n",
      "  Title: How to Become a Business Analyst?\n",
      "  URL: https://www.naukri.com/blog/how-to-become-a-business-analyst/\n",
      "------------------------------\n"
     ]
    }
   ],
   "source": [
    "print_recomm(splade_recomm)"
   ]
  },
  {
   "cell_type": "markdown",
   "id": "2fe7981f-c836-49ee-bb0e-e3180f9bf897",
   "metadata": {},
   "source": [
    "### BM25 Recommendations"
   ]
  },
  {
   "cell_type": "code",
   "execution_count": 27,
   "id": "1d68c478-2ac5-415b-b954-1bcdc68e080e",
   "metadata": {},
   "outputs": [],
   "source": [
    "import re\n",
    "from rank_bm25 import BM25Okapi"
   ]
  },
  {
   "cell_type": "raw",
   "id": "e44181ef-0c5d-48b6-9319-64ac627330b4",
   "metadata": {},
   "source": [
    "- Fetching the Top-K (K=10) recommendations for the given query via BM25 Sparse search\n",
    "- Structure: For each document we have the cleaned keywords stored, now we have the query based on it we would be ranking the documents\n",
    "- Have to form the corpus for BM25 & the inverted indices mapping"
   ]
  },
  {
   "cell_type": "code",
   "execution_count": 28,
   "id": "a1594de8-c825-4323-8048-5fcdc2b4909b",
   "metadata": {},
   "outputs": [],
   "source": [
    "corpus = []\n",
    "indices_map = []\n",
    "for idx, doc in enumerate(metadata):\n",
    "    keywords = doc['bm25']\n",
    "    if isinstance(keywords, list) and all(isinstance(k, str) for k in keywords):\n",
    "        corpus.append(keywords)\n",
    "        indices_map.append(idx)\n",
    "    else:\n",
    "        corpus.append([])\n",
    "        indices_map.append(idx)"
   ]
  },
  {
   "cell_type": "code",
   "execution_count": 29,
   "id": "6ee68232-d63e-4f70-9465-72b9666fcd76",
   "metadata": {},
   "outputs": [],
   "source": [
    "bm25_ranker = BM25Okapi(corpus) if corpus else None"
   ]
  },
  {
   "cell_type": "code",
   "execution_count": 30,
   "id": "643fff5f-a016-4e37-af17-6b084bcd5abb",
   "metadata": {},
   "outputs": [],
   "source": [
    "def tokenize(text: str) -> List[str]:\n",
    "    return [word.lower() for word in re.findall(r'\\b\\w+\\b', text)]"
   ]
  },
  {
   "cell_type": "code",
   "execution_count": 31,
   "id": "229b2851-3beb-45b8-8d51-a17ac47fd043",
   "metadata": {},
   "outputs": [],
   "source": [
    "def bm25_search(query: str, meta: List[Dict], topk: int = 10, bm25: BM25Okapi = None, doc_map: List[int] = None) -> List[Tuple[float, Dict]]:\n",
    "    if bm25 is None or doc_map is None:\n",
    "        raise ValueError(\"BM25 ranker and document map must be initialized and passed.\")\n",
    "    query = tokenize(query)\n",
    "    doc_scores = bm25.get_scores(query)\n",
    "    \n",
    "    scored_docs_unsorted = []\n",
    "    for i, score in enumerate(doc_scores):\n",
    "        orig_doc_idx = doc_map[i]\n",
    "        if not (0 <= orig_doc_idx < len(meta)):\n",
    "            continue\n",
    "        scored_docs_unsorted.append((score, meta[orig_doc_idx]))\n",
    "    scored_docs_unsorted.sort(key=lambda x: x[0], reverse=True)\n",
    "    res = []\n",
    "    seen_urls = set()\n",
    "    for score, doc_info in scored_docs_unsorted:\n",
    "        current_url = doc_info.get('url')\n",
    "\n",
    "        if current_url is None:\n",
    "            continue\n",
    "\n",
    "        if current_url not in seen_urls:\n",
    "            res.append((score, doc_info))\n",
    "            seen_urls.add(current_url)\n",
    "\n",
    "            if len(res) >= topk:\n",
    "                break      \n",
    "    return res"
   ]
  },
  {
   "cell_type": "code",
   "execution_count": 32,
   "id": "e1933685-b6a3-4734-a43f-0f9e8b43ea08",
   "metadata": {},
   "outputs": [],
   "source": [
    "bm25_recomm = bm25_search(queries_f[0], metadata, 10, bm25_ranker,indices_map)"
   ]
  },
  {
   "cell_type": "code",
   "execution_count": 33,
   "id": "2a4ca194-df5a-4135-a692-ef87f9a906de",
   "metadata": {},
   "outputs": [
    {
     "name": "stdout",
     "output_type": "stream",
     "text": [
      "Rank 1:\n",
      "  Score: 8.9482\n",
      "  Doc Index: 1\n",
      "  Title: 8 Most Important Qualities of an Entrepreneur and How to Develop Them\n",
      "  URL: https://www.naukri.com/blog/qualities-of-an-entrepreneur/\n",
      "------------------------------\n",
      "Rank 2:\n",
      "  Score: 8.7505\n",
      "  Doc Index: 0\n",
      "  Title: 10 Essential Entrepreneurial Skills & How to Develop Them\n",
      "  URL: https://www.naukri.com/blog/entrepreneurial-skills/\n",
      "------------------------------\n",
      "Rank 3:\n",
      "  Score: 8.0806\n",
      "  Doc Index: 880\n",
      "  Title: Polish Your Resume On Naukri\n",
      "  URL: https://www.naukri.com/blog/time-to-revisit-your-profile-on-naukri/\n",
      "------------------------------\n",
      "Rank 4:\n",
      "  Score: 7.3472\n",
      "  Doc Index: 269\n",
      "  Title: Campus Placement & Role of Career Counselling in Colleges.\n",
      "  URL: https://www.naukri.com/blog/campus-placement-role-of-career-counselling-in-colleges/\n",
      "------------------------------\n",
      "Rank 5:\n",
      "  Score: 7.1546\n",
      "  Doc Index: 187\n",
      "  Title: Career Opportunities for Freshers\n",
      "  URL: https://www.naukri.com/blog/career-opportunities-for-freshers/\n",
      "------------------------------\n",
      "Rank 6:\n",
      "  Score: 5.7415\n",
      "  Doc Index: 276\n",
      "  Title: 4 Leaders Whose Leadership Qualities & Skills Changed Everything\n",
      "  URL: https://www.naukri.com/blog/4-leaders-whose-leadership-qualities-skills-changed-everything/\n",
      "------------------------------\n",
      "Rank 7:\n",
      "  Score: 5.1690\n",
      "  Doc Index: 764\n",
      "  Title: Career Journey of Paytm's VP, Saurabh Jain\n",
      "  URL: https://www.naukri.com/blog/career-journey-vp-paytm-saurabh-jain/\n",
      "------------------------------\n",
      "Rank 8:\n",
      "  Score: 4.8691\n",
      "  Doc Index: 261\n",
      "  Title: Career Planning for Senior Women: Jobs You Can Do from Home\n",
      "  URL: https://www.naukri.com/blog/career-planning-for-senior-women-jobs-you-can-do-from-home/\n",
      "------------------------------\n",
      "Rank 9:\n",
      "  Score: 4.6372\n",
      "  Doc Index: 446\n",
      "  Title: Scope of Management: Definition and How It Works\n",
      "  URL: https://www.naukri.com/blog/what-is-scope-of-management/\n",
      "------------------------------\n",
      "Rank 10:\n",
      "  Score: 4.6268\n",
      "  Doc Index: 9\n",
      "  Title: Women Networking Strategies: Building Professional Connections\n",
      "  URL: https://www.naukri.com/blog/women-networking-strategies-building-professional-connections/\n",
      "------------------------------\n"
     ]
    }
   ],
   "source": [
    "print_recomm(bm25_recomm)"
   ]
  },
  {
   "cell_type": "markdown",
   "id": "16716d14-0b13-45d2-9c97-c557ee50e511",
   "metadata": {},
   "source": [
    "## RRF (Retrieval Rank Fusion)"
   ]
  },
  {
   "cell_type": "raw",
   "id": "208dec2e-2070-4f26-97a6-945c1139084d",
   "metadata": {},
   "source": [
    "- Idea is to do Retrieval Rank Fusion, with weights given to each recomm to calculate final ranks\n",
    "- More weight given to (BM25 > SPLADE > DENSE)\n",
    "- doc_idx to used as unique identifier b/w different documents\n",
    "- Out of these the Re-Ranker would choose the final game!"
   ]
  },
  {
   "cell_type": "code",
   "execution_count": 34,
   "id": "4b5cb0c6-1934-489a-9830-73995b04f9ca",
   "metadata": {},
   "outputs": [],
   "source": [
    "from typing import List, Dict, Tuple"
   ]
  },
  {
   "cell_type": "code",
   "execution_count": 35,
   "id": "ea00c9ff-09c9-4805-b1b2-c993f9af8a09",
   "metadata": {},
   "outputs": [],
   "source": [
    "def RRF( ranked_lists: List[List[Tuple[float, Dict]]], weights: List[float] = None, k_const: int = 60, top_n: int = 15 ) -> List[Tuple[float, Dict]]:\n",
    "    fused_scores = {}\n",
    "    url_to_doc = {} \n",
    "\n",
    "    if weights is None:\n",
    "        weights = [1.0] * len(ranked_lists)\n",
    "    elif len(weights) != len(ranked_lists):\n",
    "        raise ValueError(\"Number of weights must match number of ranked lists.\")\n",
    "\n",
    "    for list_idx, r_list in enumerate(ranked_lists):\n",
    "        current_weight = weights[list_idx]\n",
    "        \n",
    "        for rank, (score, chunk_dict) in enumerate(r_list):\n",
    "            doc_url = chunk_dict.get('url') \n",
    "            if doc_url is None:\n",
    "                continue\n",
    "\n",
    "            if doc_url not in url_to_doc:\n",
    "                url_to_doc[doc_url] = chunk_dict \n",
    "\n",
    "            fused_scores[doc_url] = fused_scores.get(doc_url, 0.0) + (current_weight * (1.0 / (k_const + rank + 1)))\n",
    "\n",
    "    sorted_fused_scores = sorted(fused_scores.items(), key=lambda item: item[1], reverse=True)\n",
    "\n",
    "    res = []\n",
    "    seen_urls = set() \n",
    "    for doc_url, rrf_score in sorted_fused_scores:\n",
    "        if doc_url not in seen_urls:\n",
    "            res.append((rrf_score, url_to_doc[doc_url]))\n",
    "            seen_urls.add(doc_url)\n",
    "            if len(res) >= top_n:\n",
    "                break\n",
    "    return res"
   ]
  },
  {
   "cell_type": "code",
   "execution_count": 36,
   "id": "00750df2-ffd7-4306-8e15-040449477264",
   "metadata": {},
   "outputs": [],
   "source": [
    "def rrf_recomm( bm25_recom: List[Tuple[float, Dict]], splade_recom: List[Tuple[float, Dict]], faiss_recom: List[Tuple[float, Dict]], w1: float, w2: float, w3: float, topk: int = 10) -> List[Tuple[float, Dict]]:\n",
    "    whole_list = [bm25_recom, splade_recom, faiss_recom]\n",
    "    weights = [w1, w2, w3]\n",
    "    fused_results = RRF(whole_list, weights, 60, topk)\n",
    "    return fused_results"
   ]
  },
  {
   "cell_type": "code",
   "execution_count": 39,
   "id": "2b99fd23-b858-4566-8f98-010f95b73b1d",
   "metadata": {},
   "outputs": [],
   "source": [
    "final_recomm = rrf_recomm(bm25_recomm, splade_recomm, dense_recomm, 2, 1.5, 1, 10)"
   ]
  },
  {
   "cell_type": "markdown",
   "id": "ce819f72-8cd6-4b3b-839d-1befb66f60f4",
   "metadata": {},
   "source": [
    "## Observing Final Recommendations"
   ]
  },
  {
   "cell_type": "code",
   "execution_count": 42,
   "id": "a2f7fb33-3d3c-42da-950e-52df8301dc73",
   "metadata": {},
   "outputs": [
    {
     "name": "stdout",
     "output_type": "stream",
     "text": [
      "Essential entrepreneur skills to develop\n"
     ]
    }
   ],
   "source": [
    "print(queries_f[0]) # query"
   ]
  },
  {
   "cell_type": "code",
   "execution_count": 40,
   "id": "4f080b82-c9e2-4191-a65a-5b8b627751fd",
   "metadata": {},
   "outputs": [
    {
     "name": "stdout",
     "output_type": "stream",
     "text": [
      "Rank 1:\n",
      "  Score: 0.0732\n",
      "  Doc Index: 0\n",
      "  Title: 10 Essential Entrepreneurial Skills & How to Develop Them\n",
      "  URL: https://www.naukri.com/blog/entrepreneurial-skills/\n",
      "------------------------------\n",
      "Rank 2:\n",
      "  Score: 0.0731\n",
      "  Doc Index: 1\n",
      "  Title: 8 Most Important Qualities of an Entrepreneur and How to Develop Them\n",
      "  URL: https://www.naukri.com/blog/qualities-of-an-entrepreneur/\n",
      "------------------------------\n",
      "Rank 3:\n",
      "  Score: 0.0450\n",
      "  Doc Index: 276\n",
      "  Title: 4 Leaders Whose Leadership Qualities & Skills Changed Everything\n",
      "  URL: https://www.naukri.com/blog/4-leaders-whose-leadership-qualities-skills-changed-everything/\n",
      "------------------------------\n",
      "Rank 4:\n",
      "  Score: 0.0317\n",
      "  Doc Index: 880\n",
      "  Title: Polish Your Resume On Naukri\n",
      "  URL: https://www.naukri.com/blog/time-to-revisit-your-profile-on-naukri/\n",
      "------------------------------\n",
      "Rank 5:\n",
      "  Score: 0.0312\n",
      "  Doc Index: 269\n",
      "  Title: Campus Placement & Role of Career Counselling in Colleges.\n",
      "  URL: https://www.naukri.com/blog/campus-placement-role-of-career-counselling-in-colleges/\n",
      "------------------------------\n",
      "Rank 6:\n",
      "  Score: 0.0308\n",
      "  Doc Index: 187\n",
      "  Title: Career Opportunities for Freshers\n",
      "  URL: https://www.naukri.com/blog/career-opportunities-for-freshers/\n",
      "------------------------------\n",
      "Rank 7:\n",
      "  Score: 0.0299\n",
      "  Doc Index: 764\n",
      "  Title: Career Journey of Paytm's VP, Saurabh Jain\n",
      "  URL: https://www.naukri.com/blog/career-journey-vp-paytm-saurabh-jain/\n",
      "------------------------------\n",
      "Rank 8:\n",
      "  Score: 0.0294\n",
      "  Doc Index: 261\n",
      "  Title: Career Planning for Senior Women: Jobs You Can Do from Home\n",
      "  URL: https://www.naukri.com/blog/career-planning-for-senior-women-jobs-you-can-do-from-home/\n",
      "------------------------------\n",
      "Rank 9:\n",
      "  Score: 0.0290\n",
      "  Doc Index: 446\n",
      "  Title: Scope of Management: Definition and How It Works\n",
      "  URL: https://www.naukri.com/blog/what-is-scope-of-management/\n",
      "------------------------------\n",
      "Rank 10:\n",
      "  Score: 0.0286\n",
      "  Doc Index: 9\n",
      "  Title: Women Networking Strategies: Building Professional Connections\n",
      "  URL: https://www.naukri.com/blog/women-networking-strategies-building-professional-connections/\n",
      "------------------------------\n"
     ]
    }
   ],
   "source": [
    "print_recomm(final_recomm)"
   ]
  },
  {
   "cell_type": "markdown",
   "id": "8b0566a4-c595-46f2-b15f-63dc02016e81",
   "metadata": {},
   "source": [
    "### Evaluation"
   ]
  },
  {
   "cell_type": "raw",
   "id": "1d46cad4-02b1-4aaf-b9af-9255740d9cc3",
   "metadata": {},
   "source": [
    "- Thought of evaluating the strategies, but forming the ground truth for measuring metrics likes recall@K, MRR@K, nDCG@K is time consuming for a large corpus as it needs to be mannually labelled"
   ]
  }
 ],
 "metadata": {
  "kernelspec": {
   "display_name": "Python 3 (ipykernel)",
   "language": "python",
   "name": "python3"
  },
  "language_info": {
   "codemirror_mode": {
    "name": "ipython",
    "version": 3
   },
   "file_extension": ".py",
   "mimetype": "text/x-python",
   "name": "python",
   "nbconvert_exporter": "python",
   "pygments_lexer": "ipython3",
   "version": "3.10.0"
  }
 },
 "nbformat": 4,
 "nbformat_minor": 5
}
